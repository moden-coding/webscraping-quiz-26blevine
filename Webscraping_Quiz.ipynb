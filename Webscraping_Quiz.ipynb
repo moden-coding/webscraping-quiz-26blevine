{
  "nbformat": 4,
  "nbformat_minor": 0,
  "metadata": {
    "colab": {
      "provenance": []
    },
    "kernelspec": {
      "name": "python3",
      "display_name": "Python 3"
    },
    "language_info": {
      "name": "python"
    }
  },
  "cells": [
    {
      "cell_type": "markdown",
      "source": [
        "#Webscraping Quiz"
      ],
      "metadata": {
        "id": "8ATOcKzNCdKb"
      }
    },
    {
      "cell_type": "markdown",
      "source": [
        "We are going to webscrape: https://quotes.toscrape.com/\n",
        "You will have an expanding set of tasks that starts with collecting a"
      ],
      "metadata": {
        "id": "4SSDvuZkCx17"
      }
    },
    {
      "cell_type": "code",
      "source": [
        "import requests\n",
        "from bs4 import BeautifulSoup"
      ],
      "metadata": {
        "id": "6D0gnd32Cv9K"
      },
      "execution_count": null,
      "outputs": []
    },
    {
      "cell_type": "markdown",
      "source": [
        "#Tasks:"
      ],
      "metadata": {
        "id": "8SvPSKP6C0IM"
      }
    },
    {
      "cell_type": "markdown",
      "source": [
        "4 Levels:<br>\n",
        "Level 1 (B): Grab the first quote from the front page. Print out the quote. <br>\n",
        "Level 2 (B+): Grab all the quotes from the front page. Store quotes in a list or dictionary (see Level 4).<br>\n",
        "Level 3 (A): Grab all the quotes from all 10 pages of the website. Store quotes in a list or dictionary (see Level 4)<br>\n",
        "Level 4 (A+): Create a dictionary where the keys are people and the values are a list of quotes by that person. Use all quotes from Level 3<br>\n",
        "\n",
        "Full points given to programmatic solutions that effectively use BeautifulSoup.<br><br>\n",
        "Use an intelligent combination of code and text blocks to demonstrate your understanding of using Python and BeautifulSoup to solve this problem."
      ],
      "metadata": {
        "id": "YGffYnHZBgRP"
      }
    },
    {
      "cell_type": "code",
      "source": [],
      "metadata": {
        "id": "j_D3xMo8C2kL"
      },
      "execution_count": null,
      "outputs": []
    }
  ]
}